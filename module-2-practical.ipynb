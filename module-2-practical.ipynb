### --- Conditionals (if, elif, else) ---
x = 15

if x < 10:
    print("x is less than 10")
elif x == 10:
    print("x is exactly 10")
else:
    print("x is greater than 10")

### --- For loop with range ---
# range(start, stop, step)
for i in range(1, 6):  # 1 → 5
    print("Number:", i)

### --- For loop over a list ---
fruits = ["apple", "banana", "cherry"]

for fruit in fruits:
    print("I like", fruit)

### --- While loop ---
count = 0

while count < 5:   # keep looping until count reaches 5
    print("Count is:", count)
    count += 1

### --- Lists + methods ---
numbers = [5, 2, 9]

numbers.append(7)      # add at end
numbers.insert(1, 99)  # add at index 1
numbers.remove(2)      # remove value 2
numbers.sort()         # sort ascending
numbers.reverse()      # reverse order

print(numbers)  # final list

### --- Loop + Conditionals + List combined ---
nums = [1, 2, 3, 4, 5, 6]

for n in nums:
    if n % 2 == 0:
        print(n, "is even")
    else:
        print(n, "is odd")
