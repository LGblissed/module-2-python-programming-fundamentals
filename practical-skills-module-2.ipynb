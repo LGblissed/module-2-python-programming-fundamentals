{
 "cells": [
  {
   "cell_type": "code",
   "execution_count": null,
   "metadata": {},
   "outputs": [],
   "source": [
    "# Conditionals (if, elif, else)\n",
    "x = 15\n",
    "if x < 10:\n",
    "    print(\"x is less than 10\")\n",
    "elif x == 10:\n",
    "    print(\"x is exactly 10\")\n",
    "else:\n",
    "    print(\"x is greater than 10\")\n"
   ]
  },
  {
   "cell_type": "code",
   "execution_count": null,
   "metadata": {},
   "outputs": [],
   "source": [
    "# For loop with range\n",
    "for i in range(1, 6):  # 1 → 5\n",
    "    print(\"Number:\", i)\n"
   ]
  },
  {
   "cell_type": "code",
   "execution_count": null,
   "metadata": {},
   "outputs": [],
   "source": [
    "# For loop over a list\n",
    "fruits = [\"apple\", \"banana\", \"cherry\"]\n",
    "for fruit in fruits:\n",
    "    print(\"I like\", fruit)\n"
   ]
  },
  {
   "cell_type": "code",
   "execution_count": null,
   "metadata": {},
   "outputs": [],
   "source": [
    "# While loop\n",
    "count = 0\n",
    "while count < 5:\n",
    "    print(\"Count is:\", count)\n",
    "    count += 1\n"
   ]
  },
  {
   "cell_type": "code",
   "execution_count": null,
   "metadata": {},
   "outputs": [],
   "source": [
    "# Lists + methods\n",
    "numbers = [5, 2, 9]\n",
    "numbers.append(7)      # add at end\n",
    "numbers.insert(1, 99)  # add at index 1\n",
    "numbers.remove(2)      # remove value 2\n",
    "numbers.sort()         # sort ascending\n",
    "numbers.reverse()      # reverse order\n",
    "print(numbers)\n"
   ]
  },
  {
   "cell_type": "code",
   "execution_count": null,
   "metadata": {},
   "outputs": [],
   "source": [
    "# Loop + Conditionals + List combined\n",
    "nums = [1, 2, 3, 4, 5, 6]\n",
    "for n in nums:\n",
    "    if n % 2 == 0:\n",
    "        print(n, \"is even\")\n",
    "    else:\n",
    "        print(n, \"is odd\")\n"
   ]
  }
 ],
 "metadata": {
  "kernelspec": {
   "display_name": "Python 3",
   "language": "python",
   "name": "python3"
  },
  "language_info": {
   "name": "python",
   "version": "3.x"
  }
 },
 "nbformat": 4,
 "nbformat_minor": 5
}
